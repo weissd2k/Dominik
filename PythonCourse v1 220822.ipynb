{
  "nbformat": 4,
  "nbformat_minor": 0,
  "metadata": {
    "colab": {
      "name": "Copy of Copy of Untitled0.ipynb",
      "provenance": [],
      "toc_visible": true,
      "authorship_tag": "ABX9TyNWKIBGGP1jg/97nA9UgZK2",
      "include_colab_link": true
    },
    "kernelspec": {
      "name": "python3",
      "display_name": "Python 3"
    },
    "language_info": {
      "name": "python"
    }
  },
  "cells": [
    {
      "cell_type": "markdown",
      "metadata": {
        "id": "view-in-github",
        "colab_type": "text"
      },
      "source": [
        "<a href=\"https://colab.research.google.com/github/weissd2k/Dominik/blob/main/PythonCourse%20v1%20220822.ipynb\" target=\"_parent\"><img src=\"https://colab.research.google.com/assets/colab-badge.svg\" alt=\"Open In Colab\"/></a>"
      ]
    },
    {
      "cell_type": "code",
      "execution_count": null,
      "metadata": {
        "id": "Dtgyiidra7H9"
      },
      "outputs": [],
      "source": [
        ""
      ]
    },
    {
      "cell_type": "markdown",
      "source": [
        "# This is my notebook detailling my learning journey in python - i use the Al Sweigart text book"
      ],
      "metadata": {
        "id": "Qo6t8iVSbKnV"
      }
    },
    {
      "cell_type": "code",
      "source": [
        ""
      ],
      "metadata": {
        "id": "7oAfVenmbSvi"
      },
      "execution_count": null,
      "outputs": []
    },
    {
      "cell_type": "code",
      "source": [
        ""
      ],
      "metadata": {
        "id": "96txbKH0bqjZ"
      },
      "execution_count": null,
      "outputs": []
    },
    {
      "cell_type": "markdown",
      "source": [
        "# Chapter 2 - Flow control\n"
      ],
      "metadata": {
        "id": "T4SPjNesbUVb"
      }
    },
    {
      "cell_type": "code",
      "source": [
        "spam = True\n",
        "spam\n",
        "True = 2+2\n"
      ],
      "metadata": {
        "id": "qXjCdddobsE9",
        "outputId": "a7c5a911-2470-48c8-d81e-25dca8bdbf2b",
        "colab": {
          "base_uri": "https://localhost:8080/",
          "height": 130
        }
      },
      "execution_count": null,
      "outputs": [
        {
          "output_type": "error",
          "ename": "SyntaxError",
          "evalue": "ignored",
          "traceback": [
            "\u001b[0;36m  File \u001b[0;32m\"<ipython-input-13-b3835c8a9c0a>\"\u001b[0;36m, line \u001b[0;32m3\u001b[0m\n\u001b[0;31m    True = 2+2\u001b[0m\n\u001b[0m              ^\u001b[0m\n\u001b[0;31mSyntaxError\u001b[0m\u001b[0;31m:\u001b[0m can't assign to keyword\n"
          ]
        }
      ]
    },
    {
      "cell_type": "markdown",
      "source": [
        ""
      ],
      "metadata": {
        "id": "W8jE6bK3fH0S"
      }
    },
    {
      "cell_type": "code",
      "source": [
        "42==42\n",
        "42 == 99"
      ],
      "metadata": {
        "id": "s9Md1GuzcXfQ",
        "outputId": "184b97ba-a871-4434-9b61-d9616bbcad66",
        "colab": {
          "base_uri": "https://localhost:8080/"
        }
      },
      "execution_count": null,
      "outputs": [
        {
          "output_type": "execute_result",
          "data": {
            "text/plain": [
              "False"
            ]
          },
          "metadata": {},
          "execution_count": 14
        }
      ]
    },
    {
      "cell_type": "code",
      "source": [
        "2 != 2\n"
      ],
      "metadata": {
        "id": "_Prto4q6chfz",
        "outputId": "ccd3a07d-2d7a-4791-88d1-3f2fcd89c839",
        "colab": {
          "base_uri": "https://localhost:8080/"
        }
      },
      "execution_count": null,
      "outputs": [
        {
          "output_type": "execute_result",
          "data": {
            "text/plain": [
              "False"
            ]
          },
          "metadata": {},
          "execution_count": 15
        }
      ]
    },
    {
      "cell_type": "code",
      "source": [
        "2 != 3"
      ],
      "metadata": {
        "id": "G7WD7vCAcl-a",
        "outputId": "2d2a0060-9db7-453c-8173-a1cec15c27c2",
        "colab": {
          "base_uri": "https://localhost:8080/"
        }
      },
      "execution_count": null,
      "outputs": [
        {
          "output_type": "execute_result",
          "data": {
            "text/plain": [
              "True"
            ]
          },
          "metadata": {},
          "execution_count": 16
        }
      ]
    },
    {
      "cell_type": "code",
      "source": [
        "'hello' == 'hello'"
      ],
      "metadata": {
        "id": "FUBIB1t9c1xI",
        "outputId": "35fde82a-2053-47a3-b4a6-834602da5236",
        "colab": {
          "base_uri": "https://localhost:8080/"
        }
      },
      "execution_count": null,
      "outputs": [
        {
          "output_type": "execute_result",
          "data": {
            "text/plain": [
              "True"
            ]
          },
          "metadata": {},
          "execution_count": 1
        }
      ]
    },
    {
      "cell_type": "markdown",
      "source": [
        "# p21  This program says hello and asks for my name\n"
      ],
      "metadata": {
        "id": "eZwWnn_JfQa_"
      }
    },
    {
      "cell_type": "code",
      "source": [
        "#This program says hello and aks for my name\n",
        "print('Hello world!')\n",
        "print ('What is your name?') #ask for their name\n",
        "myName = input()\n",
        "print('it is good to meet you, + myName)\n",
        "print('The length of your name is:')\n",
        "print(len(myName))"
      ],
      "metadata": {
        "id": "rdf7KGTxf6Oi",
        "outputId": "4bcd422a-c03b-4559-97ac-cd8087bb2744",
        "colab": {
          "base_uri": "https://localhost:8080/",
          "height": 130
        }
      },
      "execution_count": null,
      "outputs": [
        {
          "output_type": "error",
          "ename": "SyntaxError",
          "evalue": "ignored",
          "traceback": [
            "\u001b[0;36m  File \u001b[0;32m\"<ipython-input-3-2a5363fbfc46>\"\u001b[0;36m, line \u001b[0;32m5\u001b[0m\n\u001b[0;31m    print('it is good to meet you, + myName)\u001b[0m\n\u001b[0m                                            ^\u001b[0m\n\u001b[0;31mSyntaxError\u001b[0m\u001b[0;31m:\u001b[0m EOL while scanning string literal\n"
          ]
        }
      ]
    },
    {
      "cell_type": "code",
      "source": [
        "print('Hello world')\n",
        "print('What is your name?)\n",
        "myName = input()\n",
        "print('It is good to meet you, '+ myName)\n",
        "print('the length of your name is:')\n",
        "print(len(myName))"
      ],
      "metadata": {
        "id": "6cgiCVdehIcW",
        "outputId": "74a78ef5-5bff-4857-cc8a-c1b3d08ca9e4",
        "colab": {
          "base_uri": "https://localhost:8080/",
          "height": 130
        }
      },
      "execution_count": null,
      "outputs": [
        {
          "output_type": "error",
          "ename": "SyntaxError",
          "evalue": "ignored",
          "traceback": [
            "\u001b[0;36m  File \u001b[0;32m\"<ipython-input-4-00d3f19885d7>\"\u001b[0;36m, line \u001b[0;32m2\u001b[0m\n\u001b[0;31m    print('What is your name?)\u001b[0m\n\u001b[0m                              ^\u001b[0m\n\u001b[0;31mSyntaxError\u001b[0m\u001b[0;31m:\u001b[0m EOL while scanning string literal\n"
          ]
        }
      ]
    },
    {
      "cell_type": "code",
      "source": [
        "print('Hello world')\n",
        "print('What is your name?')\n",
        "myName = input()\n",
        "print('It is good to meet you, ' +myName)"
      ],
      "metadata": {
        "id": "0WJl64-QhTux",
        "outputId": "a0f4c53f-936c-465f-dddf-d2bce38aa385",
        "colab": {
          "base_uri": "https://localhost:8080/"
        }
      },
      "execution_count": null,
      "outputs": [
        {
          "output_type": "stream",
          "name": "stdout",
          "text": [
            "Hello world\n",
            "What is your name?\n",
            "Dominik\n",
            "It is good to meet you, Dominik\n"
          ]
        }
      ]
    }
  ]
}