{
  "nbformat": 4,
  "nbformat_minor": 0,
  "metadata": {
    "colab": {
      "name": "Trial 2222.ipynb",
      "provenance": [],
      "collapsed_sections": []
    },
    "kernelspec": {
      "name": "python3",
      "display_name": "Python 3"
    },
    "language_info": {
      "name": "python"
    }
  },
  "cells": [
    {
      "cell_type": "code",
      "execution_count": null,
      "metadata": {
        "colab": {
          "base_uri": "https://localhost:8080/"
        },
        "id": "CcRO1UVqXR71",
        "outputId": "8bffc7b0-f318-45e4-83ff-f0a7999a9d52"
      },
      "outputs": [
        {
          "output_type": "execute_result",
          "data": {
            "text/plain": [
              "8"
            ]
          },
          "metadata": {},
          "execution_count": 1
        }
      ],
      "source": [
        "4+4\n"
      ]
    },
    {
      "cell_type": "markdown",
      "source": [
        "this was my first trial"
      ],
      "metadata": {
        "id": "Mq6hs-oLXX9J"
      }
    },
    {
      "cell_type": "code",
      "source": [
        "print('hello world')"
      ],
      "metadata": {
        "colab": {
          "base_uri": "https://localhost:8080/"
        },
        "id": "FT80PsFOXau-",
        "outputId": "e3648db1-d6f1-4de5-b272-6d9f7e6f30dc"
      },
      "execution_count": null,
      "outputs": [
        {
          "output_type": "stream",
          "name": "stdout",
          "text": [
            "hello world\n"
          ]
        }
      ]
    },
    {
      "cell_type": "code",
      "source": [
        "#This program says hello and aks for my name\n",
        "print('Hello my love!')\n",
        "print ('What is your name?') #ask for their name\n",
        "myName=input()\n",
        "print('it is good to meet you,' + myName)\n",
        "print('The length of your name is:')\n",
        "print(len(myName))\n",
        "print('what is your age?')  #ask for their age\n",
        "myAge=input()\n",
        "print('You will be ' + str(int(myAge) + 1) + ' in a year.')"
      ],
      "metadata": {
        "colab": {
          "base_uri": "https://localhost:8080/"
        },
        "id": "3xdre4rZX0mQ",
        "outputId": "30076abb-1fda-44c6-8277-1a66118cef83"
      },
      "execution_count": null,
      "outputs": [
        {
          "output_type": "stream",
          "name": "stdout",
          "text": [
            "Hello my love!\n",
            "What is your name?\n",
            "Dominik\n",
            "it is good to meet you,Dominik\n",
            "The length of your name is:\n",
            "7\n",
            "what is your age?\n",
            "20\n",
            "You will be 21 in a year.\n"
          ]
        }
      ]
    }
  ]
}